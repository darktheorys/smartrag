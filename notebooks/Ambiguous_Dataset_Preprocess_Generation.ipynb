{
  "cells": [
    {
      "cell_type": "code",
      "execution_count": 1,
      "metadata": {},
      "outputs": [
        {
          "name": "stdout",
          "output_type": "stream",
          "text": [
            "/home/burak/repos/smartrag\n"
          ]
        }
      ],
      "source": [
        "%cd /home/burak/repos/smartrag"
      ]
    },
    {
      "cell_type": "code",
      "execution_count": 2,
      "metadata": {
        "id": "PbVxMZGMNA3H"
      },
      "outputs": [],
      "source": [
        "from datasets import load_dataset\n",
        "\n",
        "import pandas as pd\n",
        "import wandb\n",
        "import os"
      ]
    },
    {
      "cell_type": "code",
      "execution_count": 3,
      "metadata": {},
      "outputs": [
        {
          "data": {
            "text/plain": [
              "'%%capture\\n# start a new wandb run to track this script\\nwandb.init(\\n    # set the wandb project where this run will be logged\\n    project=\"smartrag\",\\n    name=\"ambiguous_query_generation\",\\n    save_code=False,\\n)  # start a new wandb run to track this script'"
            ]
          },
          "execution_count": 3,
          "metadata": {},
          "output_type": "execute_result"
        }
      ],
      "source": [
        "\"\"\"%%capture\n",
        "# start a new wandb run to track this script\n",
        "wandb.init(\n",
        "    # set the wandb project where this run will be logged\n",
        "    project=\"smartrag\",\n",
        "    name=\"ambiguous_query_generation\",\n",
        "    save_code=False,\n",
        ")  # start a new wandb run to track this script\"\"\""
      ]
    },
    {
      "cell_type": "code",
      "execution_count": 4,
      "metadata": {},
      "outputs": [],
      "source": [
        "from disambiguation_methods.generate_abbreviations import generate_ambiguous_queries\n",
        "from disambiguation_methods.api_suggestion import get_abbreviation_suggestions as get_abbreviation_suggestions_api\n",
        "from disambiguation_methods.llm_suggestion import get_abbreviation_suggestions as get_abbreviation_suggestions_llm\n",
        "from disambiguation_methods.ambiguity_extractor import extract_ambiguities\n",
        "from disambiguation_methods.intent_extractor import extract_intent\n",
        "from disambiguation_methods.domain_extractor import extract_domains"
      ]
    },
    {
      "cell_type": "code",
      "execution_count": 5,
      "metadata": {},
      "outputs": [
        {
          "data": {
            "text/plain": [
              "'!wget https://storage.googleapis.com/ai2i/strategyqa/data/strategyqa_dataset.zip -O strategyqa.zip\\n!unzip strategyqa.zip -d dataset\\n!wget https://nlp.cs.washington.edu/triviaqa/data/triviaqa-unfiltered.tar.gz -O triviaqa.tar.gz\\n!tar xzvf triviaqa.tar.gz\\n!wget https://nlp.cs.washington.edu/ambigqa/data/ambignq_light.zip -O ambignq.zip\\n!unzip ambignq.zip -d dataset'"
            ]
          },
          "execution_count": 5,
          "metadata": {},
          "output_type": "execute_result"
        }
      ],
      "source": [
        "\"\"\"!wget https://storage.googleapis.com/ai2i/strategyqa/data/strategyqa_dataset.zip -O strategyqa.zip\n",
        "!unzip strategyqa.zip -d dataset\n",
        "!wget https://nlp.cs.washington.edu/triviaqa/data/triviaqa-unfiltered.tar.gz -O triviaqa.tar.gz\n",
        "!tar xzvf triviaqa.tar.gz\n",
        "!wget https://nlp.cs.washington.edu/ambigqa/data/ambignq_light.zip -O ambignq.zip\n",
        "!unzip ambignq.zip -d dataset\"\"\""
      ]
    },
    {
      "cell_type": "code",
      "execution_count": 6,
      "metadata": {},
      "outputs": [],
      "source": [
        "n_queries = 50\n",
        "top_n = 10\n",
        "dataset_name = \"medquad\"\n",
        "GENERATE = False"
      ]
    },
    {
      "cell_type": "code",
      "execution_count": 7,
      "metadata": {},
      "outputs": [],
      "source": [
        "if GENERATE:\n",
        "    df = generate_ambiguous_queries(n_queries=n_queries, temperature=1.0)\n",
        "    df.to_csv(f\"./data/{dataset_name}_ambiguous.csv\")\n",
        "else:\n",
        "    if not os.path.exists(f\"./data/{dataset_name}_ambiguous.csv\"):\n",
        "        # dataset_strategyqa = pd.DataFrame(json.loads(open(\"dataset/strategyqa_train.json\").read()))\n",
        "        # dataset_triviaqa = pd.DataFrame(json.loads(open(\"triviaqa-unfiltered/unfiltered-web-dev.json\").read())[\"Data\"])\n",
        "        # dataset_ambigqa = pd.DataFrame(json.loads(open(\"/content/dataset/dev_light.json\").read()))\n",
        "        # dataset_squad = pd.DataFrame(load_dataset(\"rajpurkar/squad\")[\"train\"])\n",
        "        dataset = pd.DataFrame(load_dataset(\"keivalya/MedQuad-MedicalQnADataset\")[\"train\"])\n",
        "        dataset.rename(columns={\"Question\": \"question\", \"Answer\": \"answer\"}, inplace=True)\n",
        "        # with open(\"dev.jsonl\") as f:\n",
        "        #  dataset_boolq = pd.json_normalize(map(lambda x: json.loads(x), f.readlines()))\n",
        "        n_sample = 444\n",
        "        df = dataset.sample(n_sample, random_state=66).reset_index(drop=True)\n",
        "\n",
        "        extract_ambiguities(df)\n",
        "        df.to_csv(f\"./data/{dataset_name}_ambiguous.csv\", index=False)"
      ]
    },
    {
      "cell_type": "code",
      "execution_count": 8,
      "metadata": {},
      "outputs": [],
      "source": [
        "df = pd.read_csv(f\"./data/{dataset_name}_ambiguous.csv\")"
      ]
    },
    {
      "cell_type": "code",
      "execution_count": 10,
      "metadata": {},
      "outputs": [
        {
          "name": "stderr",
          "output_type": "stream",
          "text": [
            "  0%|          | 0/208 [00:00<?, ?it/s]/home/burak/repos/smartrag/disambiguation_methods/intent_extractor.py:122: FutureWarning: Setting an item of incompatible dtype is deprecated and will raise an error in a future version of pandas. Value 'Informational: Encompasses seeking factual information, definitions, and explanations. This category is for queries that aim directly at understanding specific facts or data.' has dtype incompatible with float64, please explicitly cast to a compatible dtype first.\n",
            "  df.loc[i, \"intent\"] = intents[answer.intent][0] if answer.intent < len(intents) else None\n",
            "100%|██████████| 208/208 [04:03<00:00,  1.17s/it, Instructional: ]\n"
          ]
        }
      ],
      "source": [
        "extract_domains(df)\n",
        "get_abbreviation_suggestions_api(df, top_n)\n",
        "get_abbreviation_suggestions_llm(df, top_n)\n",
        "extract_intent(df, top_n)"
      ]
    },
    {
      "cell_type": "code",
      "execution_count": 11,
      "metadata": {},
      "outputs": [],
      "source": [
        "# table = wandb.Table(dataframe=df)\n",
        "# wandb.log({f\"{dataset_name}_ambiguous_top{top_n}+DOMAIN+LLM+Intent\": table})\n",
        "df.to_csv(f\"./data/{dataset_name}_ambiguous_top{top_n}+DOMAIN+LLM+Intent.csv\", index=False)"
      ]
    },
    {
      "cell_type": "code",
      "execution_count": null,
      "metadata": {},
      "outputs": [],
      "source": []
    }
  ],
  "metadata": {
    "colab": {
      "collapsed_sections": [
        "DdI4nXHOwSHG",
        "SdHYCI8ygDC0",
        "1i3h-4GQI0sZ",
        "xBePcG-8xM3z",
        "Ad_c66D2wJT7"
      ],
      "provenance": []
    },
    "kernelspec": {
      "display_name": "Python 3",
      "name": "python3"
    },
    "language_info": {
      "codemirror_mode": {
        "name": "ipython",
        "version": 3
      },
      "file_extension": ".py",
      "mimetype": "text/x-python",
      "name": "python",
      "nbconvert_exporter": "python",
      "pygments_lexer": "ipython3",
      "version": "3.12.2"
    }
  },
  "nbformat": 4,
  "nbformat_minor": 0
}
