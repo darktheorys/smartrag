{
  "cells": [
    {
      "cell_type": "code",
      "execution_count": 1,
      "metadata": {},
      "outputs": [
        {
          "name": "stdout",
          "output_type": "stream",
          "text": [
            "/home/burak/repos/smartrag\n"
          ]
        }
      ],
      "source": [
        "%cd /home/burak/repos/smartrag"
      ]
    },
    {
      "cell_type": "code",
      "execution_count": 2,
      "metadata": {
        "id": "PbVxMZGMNA3H"
      },
      "outputs": [],
      "source": [
        "from datasets import load_dataset\n",
        "import json\n",
        "import pandas as pd\n",
        "import wandb\n",
        "import os"
      ]
    },
    {
      "cell_type": "code",
      "execution_count": 3,
      "metadata": {},
      "outputs": [
        {
          "data": {
            "text/plain": [
              "'%%capture\\n# start a new wandb run to track this script\\nwandb.init(\\n    # set the wandb project where this run will be logged\\n    project=\"smartrag\",\\n    name=\"ambiguous_query_generation\",\\n    save_code=False,\\n)  # start a new wandb run to track this script'"
            ]
          },
          "execution_count": 3,
          "metadata": {},
          "output_type": "execute_result"
        }
      ],
      "source": [
        "\"\"\"%%capture\n",
        "# start a new wandb run to track this script\n",
        "wandb.init(\n",
        "    # set the wandb project where this run will be logged\n",
        "    project=\"smartrag\",\n",
        "    name=\"ambiguous_query_generation\",\n",
        "    save_code=False,\n",
        ")  # start a new wandb run to track this script\"\"\""
      ]
    },
    {
      "cell_type": "code",
      "execution_count": 3,
      "metadata": {},
      "outputs": [],
      "source": [
        "from disambiguation_methods.generate_abbreviations import generate_ambiguous_queries\n",
        "from disambiguation_methods.api_suggestion import get_abbreviation_suggestions as get_abbreviation_suggestions_api\n",
        "from disambiguation_methods.llm_suggestion import get_abbreviation_suggestions as get_abbreviation_suggestions_llm\n",
        "from disambiguation_methods.ambiguity_extractor import extract_ambiguities\n",
        "from disambiguation_methods.intent_extractor import extract_intent\n",
        "from disambiguation_methods.domain_extractor import extract_domains\n",
        "from disambiguation_methods.dtype_extractor import extract_dtypes"
      ]
    },
    {
      "cell_type": "code",
      "execution_count": 5,
      "metadata": {},
      "outputs": [
        {
          "data": {
            "text/plain": [
              "'!wget https://storage.googleapis.com/ai2i/strategyqa/data/strategyqa_dataset.zip -O strategyqa.zip\\n!unzip strategyqa.zip -d dataset\\n!wget https://nlp.cs.washington.edu/triviaqa/data/triviaqa-unfiltered.tar.gz -O triviaqa.tar.gz\\n!tar xzvf triviaqa.tar.gz\\n!wget https://nlp.cs.washington.edu/ambigqa/data/ambignq_light.zip -O ambignq.zip\\n!unzip ambignq.zip -d dataset'"
            ]
          },
          "execution_count": 5,
          "metadata": {},
          "output_type": "execute_result"
        }
      ],
      "source": [
        "\"\"\"!wget https://storage.googleapis.com/ai2i/strategyqa/data/strategyqa_dataset.zip -O strategyqa.zip\n",
        "!unzip strategyqa.zip -d dataset\n",
        "!wget https://nlp.cs.washington.edu/triviaqa/data/triviaqa-unfiltered.tar.gz -O triviaqa.tar.gz\n",
        "!tar xzvf triviaqa.tar.gz\n",
        "!wget https://nlp.cs.washington.edu/ambigqa/data/ambignq_light.zip -O ambignq.zip\n",
        "!unzip ambignq.zip -d dataset\n",
        "\"\"\""
      ]
    },
    {
      "cell_type": "code",
      "execution_count": 4,
      "metadata": {},
      "outputs": [],
      "source": [
        "n_queries = 75\n",
        "top_n = 10\n",
        "dataset_name = \"ambiguous_qa\"\n",
        "# experiment = \"ambiguous\"\n",
        "experiment = \"generated\"\n",
        "GENERATE = True"
      ]
    },
    {
      "cell_type": "code",
      "execution_count": 5,
      "metadata": {},
      "outputs": [
        {
          "name": "stderr",
          "output_type": "stream",
          "text": [
            "100%|██████████| 75/75 [17:28<00:00, 13.98s/it]\n"
          ]
        }
      ],
      "source": [
        "if GENERATE:\n",
        "    df = generate_ambiguous_queries(n_queries=n_queries, temperature=1.0)\n",
        "    df.to_csv(f\"./data/{dataset_name}_{experiment}.csv\")\n",
        "else:\n",
        "    if not os.path.exists(f\"./data/{dataset_name}_{experiment}.csv\"):\n",
        "        # dataset = pd.DataFrame(json.loads(open(\"dataset/strategyqa_train.json\").read()))\n",
        "        # dataset = pd.DataFrame(json.loads(open(\"triviaqa-unfiltered/unfiltered-web-dev.json\").read())[\"Data\"])\n",
        "        # dataset = pd.DataFrame(json.loads(open(\"./dataset/dev_light.json\").read()))\n",
        "        # dataset = pd.DataFrame(load_dataset(\"rajpurkar/squad\")[\"train\"])\n",
        "        dataset = pd.DataFrame(load_dataset(\"google/boolq\")[\"train\"])\n",
        "        # dataset = pd.DataFrame(load_dataset(\"keivalya/MedQuad-MedicalQnADataset\")[\"train\"])\n",
        "        # dataset.rename(columns={\"Question\": \"question\", \"Answer\": \"answer\"}, inplace=True)\n",
        "        # with open(\"dev.jsonl\") as f:\n",
        "        #  dataset_boolq = pd.json_normalize(map(lambda x: json.loads(x), f.readlines()))\n",
        "        n_sample = 150\n",
        "        df = dataset.sample(n_sample, random_state=66).reset_index(drop=True)\n",
        "        df.to_csv(f\"./data/{dataset_name}_{experiment}.csv\", index=False)\n",
        "    else:\n",
        "        df = pd.read_csv(f\"./data/{dataset_name}_{experiment}.csv\")"
      ]
    },
    {
      "cell_type": "code",
      "execution_count": 6,
      "metadata": {},
      "outputs": [
        {
          "name": "stderr",
          "output_type": "stream",
          "text": [
            "100%|██████████| 150/150 [01:23<00:00,  1.79it/s, Domain: GOVERNMENTAL] \n",
            "100%|██████████| 150/150 [02:19<00:00,  1.08it/s, Analytical/Eval]\n",
            "100%|██████████| 150/150 [01:33<00:00,  1.61it/s, Dtype: Compound Datatype]\n",
            "100%|██████████| 150/150 [03:27<00:00,  1.38s/it]\n",
            "100%|██████████| 150/150 [02:34<00:00,  1.03s/it, ['Explosive Ordnance Disposal']]                  \n"
          ]
        }
      ],
      "source": [
        "# extract_ambiguities(df)\n",
        "extract_domains(df)\n",
        "extract_intent(df)\n",
        "extract_dtypes(df)\n",
        "\n",
        "get_abbreviation_suggestions_api(df, top_n)\n",
        "get_abbreviation_suggestions_llm(df, top_n)"
      ]
    },
    {
      "cell_type": "code",
      "execution_count": 8,
      "metadata": {},
      "outputs": [],
      "source": [
        "# table = wandb.Table(dataframe=df)\n",
        "# wandb.log({f\"{dataset_name}_ambiguous_top{top_n}+DOMAIN+LLM+Intent\": table})\n",
        "df.to_csv(f\"./data/{dataset_name}_{experiment}_top{top_n}+DOMAIN+Intent+Dtype.csv\", index=False)"
      ]
    },
    {
      "cell_type": "code",
      "execution_count": null,
      "metadata": {},
      "outputs": [],
      "source": []
    }
  ],
  "metadata": {
    "colab": {
      "collapsed_sections": [
        "DdI4nXHOwSHG",
        "SdHYCI8ygDC0",
        "1i3h-4GQI0sZ",
        "xBePcG-8xM3z",
        "Ad_c66D2wJT7"
      ],
      "provenance": []
    },
    "kernelspec": {
      "display_name": "Python 3",
      "name": "python3"
    },
    "language_info": {
      "codemirror_mode": {
        "name": "ipython",
        "version": 3
      },
      "file_extension": ".py",
      "mimetype": "text/x-python",
      "name": "python",
      "nbconvert_exporter": "python",
      "pygments_lexer": "ipython3",
      "version": "3.12.2"
    }
  },
  "nbformat": 4,
  "nbformat_minor": 0
}
