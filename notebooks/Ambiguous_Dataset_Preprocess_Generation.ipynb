{
  "cells": [
    {
      "cell_type": "code",
      "execution_count": 1,
      "metadata": {},
      "outputs": [
        {
          "name": "stdout",
          "output_type": "stream",
          "text": [
            "/home/burak/repos/smartrag\n"
          ]
        }
      ],
      "source": [
        "%cd /home/burak/repos/smartrag"
      ]
    },
    {
      "cell_type": "code",
      "execution_count": 5,
      "metadata": {
        "id": "PbVxMZGMNA3H"
      },
      "outputs": [],
      "source": [
        "from datasets import load_dataset\n",
        "\n",
        "import pandas as pd\n",
        "import wandb\n",
        "import os"
      ]
    },
    {
      "cell_type": "code",
      "execution_count": null,
      "metadata": {},
      "outputs": [],
      "source": [
        "%%capture\n",
        "# start a new wandb run to track this script\n",
        "wandb.init(\n",
        "    # set the wandb project where this run will be logged\n",
        "    project=\"smartrag\",\n",
        "    name=\"ambiguous_query_generation\",\n",
        "    save_code=False,\n",
        ")  # start a new wandb run to track this script"
      ]
    },
    {
      "cell_type": "code",
      "execution_count": 3,
      "metadata": {},
      "outputs": [],
      "source": [
        "from disambiguation_methods.generate_abbreviations import generate_ambiguous_queries\n",
        "from disambiguation_methods.api_suggestion import get_abbreviation_suggestions as get_abbreviation_suggestions_api\n",
        "from disambiguation_methods.llm_suggestion import get_abbreviation_suggestions as get_abbreviation_suggestions_llm\n",
        "from disambiguation_methods.ambiguity_extractor import extract_ambiguities\n",
        "from disambiguation_methods.intent_extractor import extract_intent"
      ]
    },
    {
      "cell_type": "code",
      "execution_count": null,
      "metadata": {},
      "outputs": [],
      "source": [
        "!wget https://storage.googleapis.com/ai2i/strategyqa/data/strategyqa_dataset.zip -O strategyqa.zip\n",
        "!unzip strategyqa.zip -d dataset\n",
        "!wget https://nlp.cs.washington.edu/triviaqa/data/triviaqa-unfiltered.tar.gz -O triviaqa.tar.gz\n",
        "!tar xzvf triviaqa.tar.gz\n",
        "!wget https://nlp.cs.washington.edu/ambigqa/data/ambignq_light.zip -O ambignq.zip\n",
        "!unzip ambignq.zip -d dataset"
      ]
    },
    {
      "cell_type": "code",
      "execution_count": 4,
      "metadata": {},
      "outputs": [],
      "source": [
        "n_queries = 50\n",
        "top_n = 10\n",
        "dataset_name = \"generated\"\n",
        "domain = None\n",
        "GENERATE = False"
      ]
    },
    {
      "cell_type": "code",
      "execution_count": 6,
      "metadata": {},
      "outputs": [],
      "source": [
        "if GENERATE:\n",
        "    df = generate_ambiguous_queries(n_queries=n_queries, temperature=1.0)\n",
        "    df.to_csv(f\"./data/{dataset_name}_ambiguous.csv\")\n",
        "else:\n",
        "    if not os.path.exists(f\"./data/{dataset_name}_ambiguous.csv\"):\n",
        "        # dataset_strategyqa = pd.DataFrame(json.loads(open(\"dataset/strategyqa_train.json\").read()))\n",
        "        # dataset_triviaqa = pd.DataFrame(json.loads(open(\"triviaqa-unfiltered/unfiltered-web-dev.json\").read())[\"Data\"])\n",
        "        # dataset_ambigqa = pd.DataFrame(json.loads(open(\"/content/dataset/dev_light.json\").read()))\n",
        "        # dataset_squad = pd.DataFrame(load_dataset(\"rajpurkar/squad\")[\"train\"])\n",
        "        dataset = pd.DataFrame(load_dataset(\"keivalya/MedQuad-MedicalQnADataset\")[\"train\"])\n",
        "        dataset.rename(columns={\"Question\": \"question\", \"Answer\": \"answer\"}, inplace=True)\n",
        "        # with open(\"dev.jsonl\") as f:\n",
        "        #  dataset_boolq = pd.json_normalize(map(lambda x: json.loads(x), f.readlines()))\n",
        "        n_sample = 500\n",
        "        df = dataset.sample(n_sample, random_state=40).reset_index(drop=True)\n",
        "\n",
        "        extract_ambiguities(df)\n",
        "        df = df.dropna(axis=0)\n",
        "\n",
        "        df.to_csv(f\"./data/{dataset_name}_ambiguous.csv\")"
      ]
    },
    {
      "cell_type": "code",
      "execution_count": 14,
      "metadata": {},
      "outputs": [],
      "source": [
        "df = pd.read_csv(f\"./data/{dataset_name}_ambiguous.csv\")"
      ]
    },
    {
      "cell_type": "code",
      "execution_count": 17,
      "metadata": {},
      "outputs": [
        {
          "name": "stderr",
          "output_type": "stream",
          "text": [
            "  0%|          | 0/100 [00:00<?, ?it/s]"
          ]
        },
        {
          "name": "stderr",
          "output_type": "stream",
          "text": [
            "100%|██████████| 100/100 [03:11<00:00,  1.92s/it]\n"
          ]
        }
      ],
      "source": [
        "get_abbreviation_suggestions_api(df, top_n, domain)\n",
        "get_abbreviation_suggestions_llm(df, top_n, domain)\n",
        "extract_intent(df, top_n, domain)"
      ]
    },
    {
      "cell_type": "code",
      "execution_count": 20,
      "metadata": {},
      "outputs": [],
      "source": [
        "table = wandb.Table(dataframe=df)\n",
        "wandb.log({f\"{dataset_name}_ambiguous_top{top_n}+LLM+Intent\": table})\n",
        "df.to_csv(f\"./data/{dataset_name}_ambiguous_top{top_n}+LLM+Intent.csv\", index=False)"
      ]
    },
    {
      "cell_type": "code",
      "execution_count": null,
      "metadata": {},
      "outputs": [],
      "source": []
    }
  ],
  "metadata": {
    "colab": {
      "collapsed_sections": [
        "DdI4nXHOwSHG",
        "SdHYCI8ygDC0",
        "1i3h-4GQI0sZ",
        "xBePcG-8xM3z",
        "Ad_c66D2wJT7"
      ],
      "provenance": []
    },
    "kernelspec": {
      "display_name": "Python 3",
      "name": "python3"
    },
    "language_info": {
      "codemirror_mode": {
        "name": "ipython",
        "version": 3
      },
      "file_extension": ".py",
      "mimetype": "text/x-python",
      "name": "python",
      "nbconvert_exporter": "python",
      "pygments_lexer": "ipython3",
      "version": "3.12.2"
    }
  },
  "nbformat": 4,
  "nbformat_minor": 0
}
