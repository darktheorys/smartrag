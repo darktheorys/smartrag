{
  "cells": [
    {
      "cell_type": "code",
      "execution_count": 1,
      "metadata": {},
      "outputs": [
        {
          "name": "stdout",
          "output_type": "stream",
          "text": [
            "/home/burak/repos/smartrag\n"
          ]
        },
        {
          "name": "stderr",
          "output_type": "stream",
          "text": [
            "/home/burak/repos/smartrag/.venv/lib/python3.12/site-packages/IPython/core/magics/osm.py:417: UserWarning: This is now an optional IPython functionality, setting dhist requires you to install the `pickleshare` library.\n",
            "  self.shell.db['dhist'] = compress_dhist(dhist)[-100:]\n"
          ]
        }
      ],
      "source": [
        "%cd /home/burak/repos/smartrag"
      ]
    },
    {
      "cell_type": "code",
      "execution_count": 2,
      "metadata": {
        "id": "PbVxMZGMNA3H"
      },
      "outputs": [],
      "source": [
        "from datasets import load_dataset\n",
        "import json\n",
        "import pandas as pd\n",
        "import wandb\n",
        "import os"
      ]
    },
    {
      "cell_type": "code",
      "execution_count": 12,
      "metadata": {},
      "outputs": [
        {
          "data": {
            "text/plain": [
              "'%%capture\\n# start a new wandb run to track this script\\nwandb.init(\\n    # set the wandb project where this run will be logged\\n    project=\"smartrag\",\\n    name=\"ambiguous_query_generation\",\\n    save_code=False,\\n)  # start a new wandb run to track this script'"
            ]
          },
          "execution_count": 12,
          "metadata": {},
          "output_type": "execute_result"
        }
      ],
      "source": [
        "\"\"\"%%capture\n",
        "# start a new wandb run to track this script\n",
        "wandb.init(\n",
        "    # set the wandb project where this run will be logged\n",
        "    project=\"smartrag\",\n",
        "    name=\"ambiguous_query_generation\",\n",
        "    save_code=False,\n",
        ")  # start a new wandb run to track this script\"\"\""
      ]
    },
    {
      "cell_type": "code",
      "execution_count": 3,
      "metadata": {},
      "outputs": [],
      "source": [
        "from disambiguation_methods.generate_abbreviations import generate_ambiguous_queries\n",
        "from disambiguation_methods.api_suggestion import get_abbreviation_suggestions as get_abbreviation_suggestions_api\n",
        "from disambiguation_methods.llm_suggestion import get_abbreviation_suggestions as get_abbreviation_suggestions_llm\n",
        "from disambiguation_methods.ambiguity_extractor import extract_ambiguities\n",
        "from disambiguation_methods.intent_extractor import extract_intent\n",
        "from disambiguation_methods.domain_extractor import extract_domains\n",
        "from disambiguation_methods.dtype_extractor import extract_dtypes"
      ]
    },
    {
      "cell_type": "code",
      "execution_count": 14,
      "metadata": {},
      "outputs": [
        {
          "data": {
            "text/plain": [
              "'!wget https://storage.googleapis.com/ai2i/strategyqa/data/strategyqa_dataset.zip -O strategyqa.zip\\n!unzip strategyqa.zip -d dataset\\n!wget https://nlp.cs.washington.edu/triviaqa/data/triviaqa-unfiltered.tar.gz -O triviaqa.tar.gz\\n!tar xzvf triviaqa.tar.gz\\n!wget https://nlp.cs.washington.edu/ambigqa/data/ambignq_light.zip -O ambignq.zip\\n!unzip ambignq.zip -d dataset\\n'"
            ]
          },
          "execution_count": 14,
          "metadata": {},
          "output_type": "execute_result"
        }
      ],
      "source": [
        "\"\"\"!wget https://storage.googleapis.com/ai2i/strategyqa/data/strategyqa_dataset.zip -O strategyqa.zip\n",
        "!unzip strategyqa.zip -d dataset\n",
        "!wget https://nlp.cs.washington.edu/triviaqa/data/triviaqa-unfiltered.tar.gz -O triviaqa.tar.gz\n",
        "!tar xzvf triviaqa.tar.gz\n",
        "!wget https://nlp.cs.washington.edu/ambigqa/data/ambignq_light.zip -O ambignq.zip\n",
        "!unzip ambignq.zip -d dataset\n",
        "\"\"\""
      ]
    },
    {
      "cell_type": "code",
      "execution_count": 18,
      "metadata": {},
      "outputs": [],
      "source": [
        "n_queries = 75\n",
        "top_n = 10\n",
        "dataset_name = \"unfiltered/pubmed-qa\"\n",
        "experiment = \"unfiltered\"\n",
        "# experiment = \"generated\"\n",
        "# experiment = \"unfiltered\"\n",
        "GENERATE = False"
      ]
    },
    {
      "cell_type": "code",
      "execution_count": 21,
      "metadata": {},
      "outputs": [],
      "source": [
        "if GENERATE:\n",
        "    df = generate_ambiguous_queries(n_queries=n_queries, temperature=1.0)\n",
        "    df.to_csv(f\"./data/{dataset_name}_{experiment}.csv\")\n",
        "else:\n",
        "    if not os.path.exists(f\"./data/{dataset_name}_{experiment}.csv\"):\n",
        "        # dataset = pd.DataFrame(json.loads(open(\"dataset/strategyqa_train.json\").read()))\n",
        "        # dataset = pd.DataFrame(json.loads(open(\"./dataset/dev_light.json\").read()))\n",
        "        # dataset = pd.DataFrame(load_dataset(\"rajpurkar/squad\")[\"train\"])\n",
        "        dataset = pd.DataFrame(load_dataset(\"bigbio/pubmed_qa\")[\"train\"])\n",
        "        # medalpaca/medical_meadow_medical_flashcards\n",
        "        # google/boolq\n",
        "        # lighthouzai/finqabench\n",
        "        # dataset = pd.DataFrame(load_dataset(\"keivalya/MedQuad-MedicalQnADataset\")[\"train\"])\n",
        "        # dataset.rename(columns={\"Question\": \"question\", \"Answer\": \"answer\"}, inplace=True)\n",
        "        # with open(\"dev.jsonl\") as f:\n",
        "        #  dataset_boolq = pd.json_normalize(map(lambda x: json.loads(x), f.readlines()))\n",
        "        n_sample = 150\n",
        "        df = dataset.sample(n_sample, random_state=66).reset_index(drop=True)\n",
        "        df.to_csv(f\"./data/{dataset_name}_{experiment}.csv\", index=False)\n",
        "    else:\n",
        "        df = pd.read_csv(f\"./data/{dataset_name}_{experiment}.csv\", sep=\",\")"
      ]
    },
    {
      "cell_type": "code",
      "execution_count": 22,
      "metadata": {},
      "outputs": [
        {
          "name": "stderr",
          "output_type": "stream",
          "text": [
            "100%|██████████| 150/150 [01:22<00:00,  1.81it/s, Domain: MEDICAL]\n",
            "100%|██████████| 150/150 [01:25<00:00,  1.76it/s, Dtype: Simple Datatype]  \n",
            "100%|██████████| 150/150 [02:27<00:00,  1.02it/s, Analytical/Eval]\n"
          ]
        }
      ],
      "source": [
        "# extract_ambiguities(df)\n",
        "extract_domains(df)\n",
        "extract_dtypes(df)\n",
        "extract_intent(df)\n",
        "\n",
        "# get_abbreviation_suggestions_api(df, top_n)\n",
        "# get_abbreviation_suggestions_llm(df, top_n)"
      ]
    },
    {
      "cell_type": "code",
      "execution_count": 23,
      "metadata": {},
      "outputs": [],
      "source": [
        "# table = wandb.Table(dataframe=df)\n",
        "# wandb.log({f\"{dataset_name}_ambiguous_top{top_n}+DOMAIN+LLM+Intent\": table})\n",
        "df.to_csv(f\"./data/{dataset_name}_{experiment}+DOMAIN+Intent+Dtype.csv\", index=False)"
      ]
    },
    {
      "cell_type": "code",
      "execution_count": 19,
      "metadata": {},
      "outputs": [],
      "source": [
        "df.to_csv(\"a.csv\")"
      ]
    },
    {
      "cell_type": "code",
      "execution_count": 10,
      "metadata": {},
      "outputs": [
        {
          "data": {
            "text/html": [
              "<div>\n",
              "<style scoped>\n",
              "    .dataframe tbody tr th:only-of-type {\n",
              "        vertical-align: middle;\n",
              "    }\n",
              "\n",
              "    .dataframe tbody tr th {\n",
              "        vertical-align: top;\n",
              "    }\n",
              "\n",
              "    .dataframe thead th {\n",
              "        text-align: right;\n",
              "    }\n",
              "</style>\n",
              "<table border=\"1\" class=\"dataframe\">\n",
              "  <thead>\n",
              "    <tr style=\"text-align: right;\">\n",
              "      <th></th>\n",
              "      <th>question</th>\n",
              "      <th>instruction</th>\n",
              "      <th>answer</th>\n",
              "      <th>possible_ambiguities</th>\n",
              "      <th>ambiguous_question</th>\n",
              "      <th>unambiguous_question</th>\n",
              "      <th>domain_idx</th>\n",
              "      <th>domain</th>\n",
              "      <th>dtype</th>\n",
              "      <th>intent</th>\n",
              "      <th>top_10_full_form</th>\n",
              "      <th>top_10_full_form_sources</th>\n",
              "      <th>llm_full_form_suggestions</th>\n",
              "    </tr>\n",
              "  </thead>\n",
              "  <tbody>\n",
              "    <tr>\n",
              "      <th>0</th>\n",
              "      <td>What does HIV/AIDS screening mean?</td>\n",
              "      <td>Answer this question truthfully</td>\n",
              "      <td>According to the U.S. guidelines, all sexually...</td>\n",
              "      <td>{\"full_form_abbrv_map\": [{\"ambiguity_type\": \"f...</td>\n",
              "      <td>What are the potential treatments or therapies...</td>\n",
              "      <td>What are the potential treatments or therapies...</td>\n",
              "      <td>8</td>\n",
              "      <td>MEDICAL</td>\n",
              "      <td>Compound Datatype-List/Array</td>\n",
              "      <td>Exploratory(Divergent Thinking): Queries that ...</td>\n",
              "      <td>[[\"Applied Physics Laboratory\", \"Accreditation...</td>\n",
              "      <td>[[\"ABBREVIATIONS\", \"ABBREVIATIONS\", \"ABBREVIAT...</td>\n",
              "      <td>[\"Acute Promyelocytic Leukemia\"]</td>\n",
              "    </tr>\n",
              "    <tr>\n",
              "      <th>1</th>\n",
              "      <td>What information is currently available regard...</td>\n",
              "      <td>Answer this question truthfully</td>\n",
              "      <td>The lifespan in SMA type I is seldom longer th...</td>\n",
              "      <td>{\"full_form_abbrv_map\": [{\"ambiguity_type\": \"f...</td>\n",
              "      <td>What are the conditions related to AF and WPW ...</td>\n",
              "      <td>What are the conditions related to atrial fibr...</td>\n",
              "      <td>8</td>\n",
              "      <td>MEDICAL</td>\n",
              "      <td>Compound Datatype-List/Array</td>\n",
              "      <td>Exploratory(Divergent Thinking): Queries that ...</td>\n",
              "      <td>[[\"American Forests\", \"Afghanistan\", \"Armed Fo...</td>\n",
              "      <td>[[\"ABBREVIATIONS\", \"ABBREVIATIONS\", \"ABBREVIAT...</td>\n",
              "      <td>[\"Atrial Fibrillation\", \"Wolff-Parkinson-White...</td>\n",
              "    </tr>\n",
              "  </tbody>\n",
              "</table>\n",
              "</div>"
            ],
            "text/plain": [
              "                                            question  \\\n",
              "0                 What does HIV/AIDS screening mean?   \n",
              "1  What information is currently available regard...   \n",
              "\n",
              "                       instruction  \\\n",
              "0  Answer this question truthfully   \n",
              "1  Answer this question truthfully   \n",
              "\n",
              "                                              answer  \\\n",
              "0  According to the U.S. guidelines, all sexually...   \n",
              "1  The lifespan in SMA type I is seldom longer th...   \n",
              "\n",
              "                                possible_ambiguities  \\\n",
              "0  {\"full_form_abbrv_map\": [{\"ambiguity_type\": \"f...   \n",
              "1  {\"full_form_abbrv_map\": [{\"ambiguity_type\": \"f...   \n",
              "\n",
              "                                  ambiguous_question  \\\n",
              "0  What are the potential treatments or therapies...   \n",
              "1  What are the conditions related to AF and WPW ...   \n",
              "\n",
              "                                unambiguous_question  domain_idx   domain  \\\n",
              "0  What are the potential treatments or therapies...           8  MEDICAL   \n",
              "1  What are the conditions related to atrial fibr...           8  MEDICAL   \n",
              "\n",
              "                          dtype  \\\n",
              "0  Compound Datatype-List/Array   \n",
              "1  Compound Datatype-List/Array   \n",
              "\n",
              "                                              intent  \\\n",
              "0  Exploratory(Divergent Thinking): Queries that ...   \n",
              "1  Exploratory(Divergent Thinking): Queries that ...   \n",
              "\n",
              "                                    top_10_full_form  \\\n",
              "0  [[\"Applied Physics Laboratory\", \"Accreditation...   \n",
              "1  [[\"American Forests\", \"Afghanistan\", \"Armed Fo...   \n",
              "\n",
              "                            top_10_full_form_sources  \\\n",
              "0  [[\"ABBREVIATIONS\", \"ABBREVIATIONS\", \"ABBREVIAT...   \n",
              "1  [[\"ABBREVIATIONS\", \"ABBREVIATIONS\", \"ABBREVIAT...   \n",
              "\n",
              "                           llm_full_form_suggestions  \n",
              "0                   [\"Acute Promyelocytic Leukemia\"]  \n",
              "1  [\"Atrial Fibrillation\", \"Wolff-Parkinson-White...  "
            ]
          },
          "execution_count": 10,
          "metadata": {},
          "output_type": "execute_result"
        }
      ],
      "source": [
        "df"
      ]
    },
    {
      "cell_type": "code",
      "execution_count": null,
      "metadata": {},
      "outputs": [],
      "source": []
    }
  ],
  "metadata": {
    "colab": {
      "collapsed_sections": [
        "DdI4nXHOwSHG",
        "SdHYCI8ygDC0",
        "1i3h-4GQI0sZ",
        "xBePcG-8xM3z",
        "Ad_c66D2wJT7"
      ],
      "provenance": []
    },
    "kernelspec": {
      "display_name": "Python 3",
      "name": "python3"
    },
    "language_info": {
      "codemirror_mode": {
        "name": "ipython",
        "version": 3
      },
      "file_extension": ".py",
      "mimetype": "text/x-python",
      "name": "python",
      "nbconvert_exporter": "python",
      "pygments_lexer": "ipython3",
      "version": "3.12.2"
    }
  },
  "nbformat": 4,
  "nbformat_minor": 0
}
